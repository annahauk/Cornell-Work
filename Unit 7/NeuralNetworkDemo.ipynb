{
 "cells": [
  {
   "cell_type": "markdown",
   "metadata": {},
   "source": [
    "## Training a Neural Network Using Keras in TensorFlow\n",
    "\n",
    "In this demo, we will show you how to train a neural network using Keras in TensorFlow. We will implement a neural network for binary classification with three hidden layers and train the network using a form of the optimization algorithm gradient descent called stochastic gradient descent (SGD).\n",
    "\n",
    "For more information about Keras, consult the [online documentation](https://keras.io/api/).\n",
    "TensorFlow is a general purpose high-performance computing language which Keras is built on top of to allow us to easily define and train neural networks.\n",
    "\n",
    "\n",
    "### Import Packages\n",
    "To get started, let us import Keras, along with other libraries."
   ]
  },
  {
   "cell_type": "code",
   "execution_count": 1,
   "metadata": {},
   "outputs": [],
   "source": [
    "import numpy as np\n",
    "import pandas as pd\n",
    "import matplotlib.pyplot as plt\n",
    "import tensorflow.keras as keras\n",
    "from sklearn.model_selection import train_test_split\n",
    "import time"
   ]
  },
  {
   "cell_type": "markdown",
   "metadata": {},
   "source": [
    "### Create and Visualize a Data Set\n",
    "\n",
    "We will create some data to use for training and testing.\n",
    "\n",
    "Our data set consists of 600 examples. Each example contains two features `x1` and `x2`. The label `y` is either 0 or 1. For this demo, we created our data set to contain 300 examples belonging to class 0 and 300 examples belonging to class 1.\n",
    "\n",
    "Run the code cells below to inspect and visualize the data."
   ]
  },
  {
   "cell_type": "code",
   "execution_count": 2,
   "metadata": {},
   "outputs": [
    {
     "name": "stdout",
     "output_type": "stream",
     "text": [
      "X shape:\n",
      "(600, 2)\n"
     ]
    },
    {
     "data": {
      "text/html": [
       "<div>\n",
       "<style scoped>\n",
       "    .dataframe tbody tr th:only-of-type {\n",
       "        vertical-align: middle;\n",
       "    }\n",
       "\n",
       "    .dataframe tbody tr th {\n",
       "        vertical-align: top;\n",
       "    }\n",
       "\n",
       "    .dataframe thead th {\n",
       "        text-align: right;\n",
       "    }\n",
       "</style>\n",
       "<table border=\"1\" class=\"dataframe\">\n",
       "  <thead>\n",
       "    <tr style=\"text-align: right;\">\n",
       "      <th></th>\n",
       "      <th>x1</th>\n",
       "      <th>x2</th>\n",
       "      <th>y</th>\n",
       "    </tr>\n",
       "  </thead>\n",
       "  <tbody>\n",
       "    <tr>\n",
       "      <th>0</th>\n",
       "      <td>0.909297</td>\n",
       "      <td>-0.416147</td>\n",
       "      <td>1.0</td>\n",
       "    </tr>\n",
       "    <tr>\n",
       "      <th>1</th>\n",
       "      <td>0.909824</td>\n",
       "      <td>-0.455930</td>\n",
       "      <td>1.0</td>\n",
       "    </tr>\n",
       "    <tr>\n",
       "      <th>2</th>\n",
       "      <td>0.908654</td>\n",
       "      <td>-0.496261</td>\n",
       "      <td>1.0</td>\n",
       "    </tr>\n",
       "    <tr>\n",
       "      <th>3</th>\n",
       "      <td>0.905752</td>\n",
       "      <td>-0.537067</td>\n",
       "      <td>1.0</td>\n",
       "    </tr>\n",
       "    <tr>\n",
       "      <th>4</th>\n",
       "      <td>0.901081</td>\n",
       "      <td>-0.578277</td>\n",
       "      <td>1.0</td>\n",
       "    </tr>\n",
       "  </tbody>\n",
       "</table>\n",
       "</div>"
      ],
      "text/plain": [
       "         x1        x2    y\n",
       "0  0.909297 -0.416147  1.0\n",
       "1  0.909824 -0.455930  1.0\n",
       "2  0.908654 -0.496261  1.0\n",
       "3  0.905752 -0.537067  1.0\n",
       "4  0.901081 -0.578277  1.0"
      ]
     },
     "execution_count": 2,
     "metadata": {},
     "output_type": "execute_result"
    }
   ],
   "source": [
    "# The data contains 600 examples total\n",
    "# 300 in class 0 \n",
    "# 300 in class 1\n",
    "\n",
    "# Generate the raw data\n",
    "N = 300\n",
    "r = np.linspace(1,2*np.pi,N)\n",
    "x1 = np.array([np.sin(2.*r)*r, np.cos(2*r)*r]).T\n",
    "x2 = np.array([np.sin(2.*r+np.pi)*r, np.cos(2*r+np.pi)*r]).T\n",
    "\n",
    "# Compute X and y\n",
    "X = np.concatenate([x1, x2], axis=0)\n",
    "print(\"X shape:\")\n",
    "print(X.shape)\n",
    "y = np.concatenate([np.ones(N), 0 * np.ones(N)])\n",
    "\n",
    "# Create DataFrame for visualizaton purposes\n",
    "df = pd.DataFrame({\n",
    "    'x1': X[:,0],\n",
    "    'x2': X[:,1],\n",
    "    'y': y\n",
    "})\n",
    "df.head()"
   ]
  },
  {
   "cell_type": "code",
   "execution_count": 3,
   "metadata": {},
   "outputs": [
    {
     "data": {
      "image/png": "[encoded data removed]",
      "text/plain": [
       "<Figure size 432x288 with 1 Axes>"
      ]
     },
     "metadata": {
      "needs_background": "light"
     },
     "output_type": "display_data"
    }
   ],
   "source": [
    "# Visualize data\n",
    "plt.scatter(X[y == 1, 0], X[y == 1, 1], c='b')\n",
    "plt.scatter(X[y != 1, 0], X[y != 1, 1], c='r')\n",
    "plt.legend([\"1\",\"0\"])\n",
    "plt.show()"
   ]
  },
  {
   "cell_type": "markdown",
   "metadata": {},
   "source": [
    "###  Create Training and Test Data Sets\n",
    "We will now use scikit-learn to split our data set into training and test data sets."
   ]
  },
  {
   "cell_type": "code",
   "execution_count": 4,
   "metadata": {},
   "outputs": [
    {
     "name": "stdout",
     "output_type": "stream",
     "text": [
      "(420, 2)\n",
      "(180, 2)\n"
     ]
    }
   ],
   "source": [
    "X_train, X_test, y_train, y_test = train_test_split(X, y, test_size=0.3, random_state=4)\n",
    "print(X_train.shape)\n",
    "print(X_test.shape)"
   ]
  },
  {
   "cell_type": "markdown",
   "metadata": {},
   "source": [
    "The steps to define and train a neural network using Keras are:\n",
    "\n",
    "1. Define the model structure.\n",
    "2. Define the optimization algorithm, i.e., the variant of gradient descent you want to use.\n",
    "3. Define the loss function to minimize.\n",
    "4. Compile the model.\n",
    "5. \"Fit\" the model on training data for $M$ epochs (an epoch is one training cycle, which is one forward and backward propagation pass of all of the training data).\n",
    "6. Evaluate the model.\n",
    "\n",
    "The \"fitting\" process propagates the data forward, computing the loss value, then propagating the data backward, computing the gradients for the weights, and then updating the weights for $M$ times. \n",
    "\n",
    "We will walk you through those steps."
   ]
  },
  {
   "cell_type": "markdown",
   "metadata": {},
   "source": [
    "### Step 1. Define Model Structure\n",
    "\n",
    "We will use the Keras [Sequential class](https://keras.io/api/models/sequential/) to group a stack of layers. We will use the [Dense class](https://keras.io/api/layers/core_layers/dense/) to create each layer. \n",
    "\n",
    "To create a neural network in Keras we have to specify the type and width of each hidden layer as well as the activation function utilized. Below we create a network with 3 hidden layers of width 64, 32, and 16 and utilizing the ReLu activation function.\n"
   ]
  },
  {
   "cell_type": "code",
   "execution_count": 5,
   "metadata": {},
   "outputs": [
    {
     "name": "stdout",
     "output_type": "stream",
     "text": [
      "Model: \"sequential\"\n",
      "_________________________________________________________________\n",
      "Layer (type)                 Output Shape              Param #   \n",
      "=================================================================\n",
      "hl_1 (Dense)                 (None, 64)                192       \n",
      "_________________________________________________________________\n",
      "hl_2 (Dense)                 (None, 32)                2080      \n",
      "_________________________________________________________________\n",
      "hl_3 (Dense)                 (None, 16)                528       \n",
      "_________________________________________________________________\n",
      "output (Dense)               (None, 1)                 17        \n",
      "=================================================================\n",
      "Total params: 2,817\n",
      "Trainable params: 2,817\n",
      "Non-trainable params: 0\n",
      "_________________________________________________________________\n"
     ]
    }
   ],
   "source": [
    "# Create neural network model object\n",
    "nn_model = keras.Sequential()\n",
    "\n",
    "# Construct input layer \n",
    "input_layer = keras.layers.InputLayer(input_shape=(2,), name='input')\n",
    "# Add input layer to model object\n",
    "nn_model.add(input_layer)\n",
    "\n",
    "\n",
    "# Construct hidden layer 1\n",
    "hidden_layer_1 = keras.layers.Dense(units=64, activation='relu', name='hl_1')\n",
    "# Add hidden layer to model object\n",
    "nn_model.add(hidden_layer_1)\n",
    "\n",
    "\n",
    "# Construct hidden layer 2\n",
    "hidden_layer_2 = keras.layers.Dense(units=32, activation='relu', name='hl_2')\n",
    "# Add hidden layer to model object\n",
    "nn_model.add(hidden_layer_2)\n",
    "\n",
    "\n",
    "# Construct hidden layer 3\n",
    "hidden_layer_3 = keras.layers.Dense(units=16, activation='relu', name='hl_3')\n",
    "# Add hidden layer to model object\n",
    "nn_model.add(hidden_layer_3)\n",
    "\n",
    "\n",
    "# Construct Output layer \n",
    "output_layer = keras.layers.Dense(units=1, activation='sigmoid', name='output') \n",
    "# Add output layer to model object\n",
    "nn_model.add(output_layer)\n",
    "\n",
    "\n",
    "# Print model summary\n",
    "nn_model.summary()\n"
   ]
  },
  {
   "cell_type": "markdown",
   "metadata": {},
   "source": [
    "Let's break this down. Our network is comprised of 5 layers: an input layer, three hidden layers and an output layer.\n",
    "The code above creates the hidden and output layers.\n",
    "\n",
    "\n",
    "<b>Input layer</b>\n",
    "\n",
    "We pass the following arguments to the `Dense()` function:\n",
    "\n",
    "`input_shape`: dimensionality of the input layer.<br>\n",
    "\n",
    "* When specifying an input shape of 2, we are specifying the input layer's dimensions. The input layer should have 2 dimensions to match the feature dimension of each of the training examples in $\\mathbf{X}$.\n",
    "\n",
    "Note that we do not have to explicitly use the Keras `InputLayer` to create an input layer.\n",
    "\n",
    "We can remove the lines:\n",
    "\n",
    "```\n",
    "input_layer = keras.layers.InputLayer(input_shape=(2,), name='input')\n",
    "model.add(input_layer)\n",
    "```\n",
    "and instead move the `input_shape` parameter to the first hidden layer, like so: \n",
    "\n",
    "```\n",
    "hidden_layer_1 = keras.layers.Dense(units=64, input_shape=(2,), activation='relu', name='hl_1')\n",
    "```\n",
    "\n",
    "This effectively combines both layers. In fact, it is generally recommended to use this second approach, but for the purposes of this course we will create an `InputLayer` in Keras\n",
    "\n",
    "\n",
    "<b>Hidden layers</b>\n",
    "\n",
    "We pass the following arguments to the `Dense()` function:\n",
    "\n",
    "    \n",
    "`activation`: activation function to use. If you don't specify anything, no activation is applied (ie. \"linear\" activation: a(x) = x).<br>\n",
    "\n",
    "* In this demo, we are specifying `ReLU` as the activation function. \n",
    "\n",
    "`units`: dimensionality of the output space. We can view this as the number of nodes in the layer itself.<br>\n",
    "\n",
    "   *  When specifying the number of units in the first hidden layer to be 64, we are specifying a fully-connected layer with 64 hidden units (nodes). Note that we can choose the value of `units`. This is a hyperparameter we can tune.\n",
    "\n",
    "\n",
    "<b>Output Layer</b>:\n",
    "\n",
    "`units`: The output layer is a single dense layer. The output shape is 1. We have a single neuron that outputs one numerical value.\n",
    "\n",
    "`activation`:\n",
    "Note that we are specifying an activation function: sigmoid. Since we are working with binary classification, we will be using the sigmoid activation function to map the output to a probability between 0.0 and 1.0. We can later set a threshold and assume that the prediction is class 1 if the probability is larger than our equal to our threshold, or class 0 if it is lower than our threshold."
   ]
  },
  {
   "cell_type": "markdown",
   "metadata": {},
   "source": [
    "#### Classification Neural Network Output\n"
   ]
  },
  {
   "cell_type": "markdown",
   "metadata": {},
   "source": [
    "Neural networks are versatile models that can be used to for both regression and classification problems. The output of a regression network is a real number or vector of real numbers. Meanwhile, the output of the neural network for classification is a normalized probability vector.\n",
    "\n",
    "Classification problems output belief vectors, also known as logits. Every element in the belief vector corresponds to the model's belief that the input example belongs to a certain class. For example, imagine we have a 5-class classification problem with labels {0, 1, 2, 3, 4}. Our model will output a 5-dimensional belief vector. If the 𝑗th element of this vector has the highest value, then the model believes that that example belongs to class 𝑗.\n",
    "\n",
    "Note that since the output of a classification neural network is a real vector, each element could be any value on different scales. As such, we usually apply an activation function to the output layer which normalizes these values across classes and then turns all outputs into well-defined probabilities. \n",
    "\n",
    "If we were working with multi-class classification, we would use the softmax activation function and specify an output shape corresponding to the number of classes (one neuron per class). A vector would be output which would correspond to the probabilities of each class. \n",
    "\n",
    "For our binary classification problem, we could technically also use the softmax activation function and specify an output shape of 2 (two neurons). A vector of size two would be output. However, the best approach would be to use\n",
    "the sigmoid activation function to output a probability between 0 and 1. \n",
    "\n",
    "Note that in Keras, there a number of configurations that can be used to achieve the same goal. You do not have to specify an activation function in the output layer, but rather allow for the output to be logits. You can then use other techniques to achieve a normalized probability output."
   ]
  },
  {
   "cell_type": "markdown",
   "metadata": {},
   "source": [
    "### Step 2. Define the Optimization Algorithm\n",
    "\n",
    "As our optimizer we will use stochastic gradient descent (SGD) with a learning rate of 0.1.\n",
    "\n",
    "Keras does not provide vanilla gradient descent. Instead, the basic variant it provides is Stochastic Gradient Descent (SGD). For more information, see the [SGD online documentation](https://keras.io/api/optimizers/sgd/). "
   ]
  },
  {
   "cell_type": "code",
   "execution_count": 6,
   "metadata": {},
   "outputs": [],
   "source": [
    "sgd_optimizer = keras.optimizers.SGD(learning_rate=0.1)"
   ]
  },
  {
   "cell_type": "markdown",
   "metadata": {},
   "source": [
    "### Step 3. Define the Loss Function\n",
    "\n",
    "Since we are working with a binary classification problem, we are going to use log loss, or binary cross entropy loss. We will use the `BinaryCrossentropy` class. Since our output will be a normalized probability between 0 and 1, we specify `from_logits=False`. For more information on the binary cross entropy loss functions in Keras visit the [online documentation](https://keras.io/api/losses/probabilistic_losses/)."
   ]
  },
  {
   "cell_type": "code",
   "execution_count": 7,
   "metadata": {},
   "outputs": [],
   "source": [
    "loss_fn = keras.losses.BinaryCrossentropy(from_logits=False)"
   ]
  },
  {
   "cell_type": "markdown",
   "metadata": {},
   "source": [
    "### Step 4. Compile the model\n",
    "\n",
    "Now we need to package the network architecture with the optimizer and the loss function and to do this we use the `compile()` method. Notice we are also including the `metrics` parameter. This is a list of metrics to be evaluated by the model during training and testing. We will specify `accuracy` since we would like to obtain the accuracy score."
   ]
  },
  {
   "cell_type": "code",
   "execution_count": 8,
   "metadata": {},
   "outputs": [],
   "source": [
    "nn_model.compile(optimizer=sgd_optimizer, loss=loss_fn, metrics=['accuracy'])"
   ]
  },
  {
   "cell_type": "markdown",
   "metadata": {},
   "source": [
    "### Step 5. Fit the Model on the Training Data\n",
    "\n",
    "We are almost ready to train the neural network model. By default, Keras outputs loss and metrics at the end of every epoch. So instead, we will use a custom logger function to only output every 50 epochs."
   ]
  },
  {
   "cell_type": "code",
   "execution_count": 9,
   "metadata": {},
   "outputs": [],
   "source": [
    "class ProgBarLoggerNEpochs(keras.callbacks.Callback):\n",
    "    \n",
    "    def __init__(self, num_epochs: int, every_n: int = 50):\n",
    "        self.num_epochs = num_epochs\n",
    "        self.every_n = every_n\n",
    "    \n",
    "    def on_epoch_end(self, epoch, logs=None):\n",
    "        if (epoch + 1) % self.every_n == 0:\n",
    "            s = 'Epoch [{}/ {}]'.format(epoch + 1, self.num_epochs)\n",
    "            logs_s = ['{}: {:.4f}'.format(k.capitalize(), v)\n",
    "                      for k, v in logs.items()]\n",
    "            s_list = [s] + logs_s\n",
    "            print(', '.join(s_list))"
   ]
  },
  {
   "cell_type": "markdown",
   "metadata": {},
   "source": [
    "Now we can run the `fit()` method on our model to learn model parameters from the training data. The `fit()` method returns a Keras `History` object, which contains information such as the training loss and accuracy per epoch. Also notice that we are adding our logger function to the list of callbacks."
   ]
  },
  {
   "cell_type": "code",
   "execution_count": 10,
   "metadata": {},
   "outputs": [
    {
     "name": "stdout",
     "output_type": "stream",
     "text": [
      "Epoch [10/ 500], Loss: 0.6572, Accuracy: 0.6286\n",
      "Epoch [20/ 500], Loss: 0.6524, Accuracy: 0.6738\n",
      "Epoch [30/ 500], Loss: 0.6423, Accuracy: 0.6810\n",
      "Epoch [40/ 500], Loss: 0.6361, Accuracy: 0.6595\n",
      "Epoch [50/ 500], Loss: 0.6274, Accuracy: 0.6714\n",
      "Epoch [60/ 500], Loss: 0.5978, Accuracy: 0.6643\n",
      "Epoch [70/ 500], Loss: 0.5586, Accuracy: 0.6500\n",
      "Epoch [80/ 500], Loss: 0.5093, Accuracy: 0.7000\n",
      "Epoch [90/ 500], Loss: 0.4164, Accuracy: 0.8238\n",
      "Epoch [100/ 500], Loss: 0.3405, Accuracy: 0.8595\n",
      "Epoch [110/ 500], Loss: 0.2329, Accuracy: 0.9167\n",
      "Epoch [120/ 500], Loss: 0.0554, Accuracy: 1.0000\n",
      "Epoch [130/ 500], Loss: 0.0264, Accuracy: 1.0000\n",
      "Epoch [140/ 500], Loss: 0.0131, Accuracy: 1.0000\n",
      "Epoch [150/ 500], Loss: 0.0081, Accuracy: 1.0000\n",
      "Epoch [160/ 500], Loss: 0.0053, Accuracy: 1.0000\n",
      "Epoch [170/ 500], Loss: 0.0040, Accuracy: 1.0000\n",
      "Epoch [180/ 500], Loss: 0.0031, Accuracy: 1.0000\n",
      "Epoch [190/ 500], Loss: 0.0026, Accuracy: 1.0000\n",
      "Epoch [200/ 500], Loss: 0.0021, Accuracy: 1.0000\n",
      "Epoch [210/ 500], Loss: 0.0018, Accuracy: 1.0000\n",
      "Epoch [220/ 500], Loss: 0.0016, Accuracy: 1.0000\n",
      "Epoch [230/ 500], Loss: 0.0014, Accuracy: 1.0000\n",
      "Epoch [240/ 500], Loss: 0.0012, Accuracy: 1.0000\n",
      "Epoch [250/ 500], Loss: 0.0011, Accuracy: 1.0000\n",
      "Epoch [260/ 500], Loss: 0.0010, Accuracy: 1.0000\n",
      "Epoch [270/ 500], Loss: 0.0009, Accuracy: 1.0000\n",
      "Epoch [280/ 500], Loss: 0.0009, Accuracy: 1.0000\n",
      "Epoch [290/ 500], Loss: 0.0008, Accuracy: 1.0000\n",
      "Epoch [300/ 500], Loss: 0.0007, Accuracy: 1.0000\n",
      "Epoch [310/ 500], Loss: 0.0007, Accuracy: 1.0000\n",
      "Epoch [320/ 500], Loss: 0.0006, Accuracy: 1.0000\n",
      "Epoch [330/ 500], Loss: 0.0006, Accuracy: 1.0000\n",
      "Epoch [340/ 500], Loss: 0.0006, Accuracy: 1.0000\n",
      "Epoch [350/ 500], Loss: 0.0005, Accuracy: 1.0000\n",
      "Epoch [360/ 500], Loss: 0.0005, Accuracy: 1.0000\n",
      "Epoch [370/ 500], Loss: 0.0005, Accuracy: 1.0000\n",
      "Epoch [380/ 500], Loss: 0.0005, Accuracy: 1.0000\n",
      "Epoch [390/ 500], Loss: 0.0004, Accuracy: 1.0000\n",
      "Epoch [400/ 500], Loss: 0.0004, Accuracy: 1.0000\n",
      "Epoch [410/ 500], Loss: 0.0004, Accuracy: 1.0000\n",
      "Epoch [420/ 500], Loss: 0.0004, Accuracy: 1.0000\n",
      "Epoch [430/ 500], Loss: 0.0004, Accuracy: 1.0000\n",
      "Epoch [440/ 500], Loss: 0.0003, Accuracy: 1.0000\n",
      "Epoch [450/ 500], Loss: 0.0003, Accuracy: 1.0000\n",
      "Epoch [460/ 500], Loss: 0.0003, Accuracy: 1.0000\n",
      "Epoch [470/ 500], Loss: 0.0003, Accuracy: 1.0000\n",
      "Epoch [480/ 500], Loss: 0.0003, Accuracy: 1.0000\n",
      "Epoch [490/ 500], Loss: 0.0003, Accuracy: 1.0000\n",
      "Epoch [500/ 500], Loss: 0.0003, Accuracy: 1.0000\n",
      "Elapsed time: 12.61s\n"
     ]
    }
   ],
   "source": [
    "t0 = time.time() # start time\n",
    "\n",
    "num_epochs = 500 # number of epochs\n",
    "\n",
    "history = nn_model.fit(\n",
    "    X_train,\n",
    "    y_train,\n",
    "    epochs=num_epochs,\n",
    "    verbose=0, # disable the default progress bar\n",
    "    callbacks=[ProgBarLoggerNEpochs(num_epochs, every_n=10)],\n",
    ")\n",
    "\n",
    "t1 = time.time() # stop time\n",
    "\n",
    "print('Elapsed time: %.2fs' % (t1-t0))"
   ]
  },
  {
   "cell_type": "markdown",
   "metadata": {},
   "source": [
    "It is possible that the Keras model takes longer to train than a version built from scratch with basic NumPy. This is because of the massive overhead required to setup and train the model. However, as the number of training examples increases and the network becomes more complex, Keras (and other Machine Learning libraries) scale much better than pure-NumPy implementations---even better when you use a GPU. For this reason, developers and researchers almost always use libraries like TensorFlow and Keras to train networks."
   ]
  },
  {
   "cell_type": "markdown",
   "metadata": {},
   "source": [
    "### Step 6. Evaluate the Model\n",
    "\n",
    "Let us visualize the training loss and accuracy over time:"
   ]
  },
  {
   "cell_type": "code",
   "execution_count": 11,
   "metadata": {},
   "outputs": [
    {
     "data": {
      "image/png": "[encoded data removed]",
      "text/plain": [
       "<Figure size 432x288 with 1 Axes>"
      ]
     },
     "metadata": {
      "needs_background": "light"
     },
     "output_type": "display_data"
    }
   ],
   "source": [
    "plt.plot(range(1, num_epochs + 1), history.history['loss'], label='Training Loss')\n",
    "plt.plot(range(1, num_epochs + 1), history.history['accuracy'], label='Training Accuracy')\n",
    "\n",
    "plt.xlabel('Epoch')\n",
    "plt.ylabel('Performance')\n",
    "plt.legend()\n",
    "plt.show()"
   ]
  },
  {
   "cell_type": "markdown",
   "metadata": {},
   "source": [
    "Keras makes the process of evaluating our model very easy. Recall that when we compiled the model we specified the metric we wanted to use to evaluate the model: accuracy. The Keras method `evaluate()` will return the loss and accuracy score of our model on the test data:"
   ]
  },
  {
   "cell_type": "code",
   "execution_count": 12,
   "metadata": {},
   "outputs": [
    {
     "name": "stdout",
     "output_type": "stream",
     "text": [
      "Loss:  0.00045093626249581575 Accuracy:  1.0\n"
     ]
    }
   ],
   "source": [
    "loss, accuracy = nn_model.evaluate(X_test, y_test, verbose=0)\n",
    "print('Loss: ', str(loss) , 'Accuracy: ', str(accuracy))"
   ]
  },
  {
   "cell_type": "markdown",
   "metadata": {},
   "source": [
    "In the cell below, we will make a prediction on our test set using the `predict()` method, receive a probability between 0.0 and 1.0, and then apply a threshold to obtain the the predicted class for each example. We will use a threshold of 0.5.\n",
    "\n",
    "For the first 10 examples, we will output their probabilities and the corresponding classes. Examine the output to see how this works."
   ]
  },
  {
   "cell_type": "code",
   "execution_count": 13,
   "metadata": {},
   "outputs": [
    {
     "name": "stdout",
     "output_type": "stream",
     "text": [
      "Predictions for the first 10 examples:\n",
      "Probability\t\t\tClass\n",
      "[4.1397743e-05]\t\t\t0\n",
      "[1.8613038e-05]\t\t\t0\n",
      "[0.00055078]\t\t\t0\n",
      "[4.751279e-05]\t\t\t0\n",
      "[0.99993056]\t\t\t1\n",
      "[0.0004454]\t\t\t0\n",
      "[0.00078121]\t\t\t0\n",
      "[0.99926174]\t\t\t1\n",
      "[4.2147665e-05]\t\t\t0\n",
      "[0.9999271]\t\t\t1\n"
     ]
    }
   ],
   "source": [
    "# Evaluate the network\n",
    "# Make predictions on the test set\n",
    "probability_predictions = nn_model.predict(X_test)\n",
    "print(\"Predictions for the first 10 examples:\")\n",
    "print(\"Probability\\t\\t\\tClass\")\n",
    "for i in range(0,10):\n",
    "    if probability_predictions[i] >= .5:\n",
    "        class_pred = 1\n",
    "    else:\n",
    "        class_pred = 0\n",
    "    print(str(probability_predictions[i]) + \"\\t\\t\\t\" + str(class_pred))"
   ]
  },
  {
   "cell_type": "markdown",
   "metadata": {},
   "source": [
    "### Step 7. Visualize the Learned Decision Boundaries"
   ]
  },
  {
   "cell_type": "markdown",
   "metadata": {},
   "source": [
    "Finally, since this example is a binary classification problem, we can visualize the decision boundaries that the model learned:"
   ]
  },
  {
   "cell_type": "code",
   "execution_count": 14,
   "metadata": {},
   "outputs": [
    {
     "data": {
      "image/png": "[encoded data removed]",
      "text/plain": [
       "<Figure size 432x288 with 1 Axes>"
      ]
     },
     "metadata": {
      "needs_background": "light"
     },
     "output_type": "display_data"
    }
   ],
   "source": [
    "from numpy.matlib import repmat\n",
    "\n",
    "symbols = [\"ko\",\"kx\"]\n",
    "marker_symbols = ['o', 'x']\n",
    "mycolors = [[0.5, 0.5, 1], [1, 0.5, 0.5]]\n",
    "classvals = np.unique(y_train)\n",
    "\n",
    "plt.figure()\n",
    "\n",
    "res=300\n",
    "xrange = np.linspace(min(X_test[:, 0]), max(X_test[:, 0]),res)\n",
    "yrange = np.linspace(min(X_test[:, 1]), max(X_test[:, 1]),res)\n",
    "pixelX = repmat(xrange, res, 1)\n",
    "pixelY = repmat(yrange, res, 1).T\n",
    "\n",
    "\n",
    "xTe = np.array([pixelX.flatten(), pixelY.flatten()]).T\n",
    "logits = nn_model.predict(xTe, steps = 1)\n",
    "testpreds = logits.argmax(axis = 1)\n",
    "\n",
    "testpreds[testpreds == 0] = -1\n",
    "Z = testpreds.reshape(res, res)\n",
    "#Z[0,0] = 1 # optional: scale the colors correctly\n",
    "plt.contourf(pixelX, pixelY, np.sign(Z), colors=mycolors)\n",
    "\n",
    "for idx, c in enumerate(classvals):\n",
    "    plt.scatter(X_train[y_train == c,0],\n",
    "                X_train[y_train == c,1],\n",
    "                marker=marker_symbols[idx],\n",
    "                color='k')\n",
    "\n",
    "plt.axis('tight')\n",
    "plt.show()\n",
    "\n"
   ]
  },
  {
   "cell_type": "markdown",
   "metadata": {},
   "source": [
    "<b>Deep Dive</b>:\n",
    "\n",
    "You can play around with the neural network implementation above and compare your results every time you train the network. Pay attention to the time it takes to train the network, and the resulting loss and accuracy. \n",
    "\n",
    "Below are some ideas for things you can try:\n",
    "\n",
    "* Adjust the learning rate.\n",
    "* Change the number of epochs by experimenting with different values for the variable `num_epochs`.\n",
    "* Add more hidden layers and/or experiment with different values for the `unit` parameter in the hidden layers to change the number of nodes in the hidden layers.\n",
    "* Modify the data set."
   ]
  }
 ],
 "metadata": {
  "kernelspec": {
   "display_name": "Python 3",
   "language": "python",
   "name": "python3"
  },
  "language_info": {
   "codemirror_mode": {
    "name": "ipython",
    "version": 3
   },
   "file_extension": ".py",
   "mimetype": "text/x-python",
   "name": "python",
   "nbconvert_exporter": "python",
   "pygments_lexer": "ipython3",
   "version": "3.6.9"
  },
  "toc": {
   "base_numbering": 1,
   "nav_menu": {},
   "number_sections": false,
   "sideBar": true,
   "skip_h1_title": false,
   "title_cell": "Table of Contents",
   "title_sidebar": "Contents",
   "toc_cell": false,
   "toc_position": {},
   "toc_section_display": true,
   "toc_window_display": false
  },
  "varInspector": {
   "cols": {
    "lenName": 16,
    "lenType": 16,
    "lenVar": 40
   },
   "kernels_config": {
    "python": {
     "delete_cmd_postfix": "",
     "delete_cmd_prefix": "del ",
     "library": "var_list.py",
     "varRefreshCmd": "print(var_dic_list())"
    },
    "r": {
     "delete_cmd_postfix": ") ",
     "delete_cmd_prefix": "rm(",
     "library": "var_list.r",
     "varRefreshCmd": "cat(var_dic_list()) "
    }
   },
   "types_to_exclude": [
    "module",
    "function",
    "builtin_function_or_method",
    "instance",
    "_Feature"
   ],
   "window_display": false
  }
 },
 "nbformat": 4,
 "nbformat_minor": 4
}
