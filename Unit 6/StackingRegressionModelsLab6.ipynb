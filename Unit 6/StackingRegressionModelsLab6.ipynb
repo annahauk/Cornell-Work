{
 "cells": [
  {
   "cell_type": "markdown",
   "metadata": {},
   "source": [
    "# Lab 6: Stacking Regression Models"
   ]
  },
  {
   "cell_type": "code",
   "execution_count": 1,
   "metadata": {},
   "outputs": [],
   "source": [
    "import pandas as pd\n",
    "import numpy as np\n",
    "import os \n",
    "import matplotlib.pyplot as plt\n",
    "import seaborn as sns\n",
    "\n",
    "from sklearn.model_selection import train_test_split, cross_val_score\n",
    "from sklearn.ensemble import RandomForestRegressor, GradientBoostingRegressor\n",
    "from sklearn.tree import DecisionTreeRegressor\n",
    "from sklearn.linear_model import LinearRegression\n",
    "from sklearn.metrics import mean_squared_error, r2_score"
   ]
  },
  {
   "cell_type": "markdown",
   "metadata": {},
   "source": [
    "In this lab assignment, you will:\n",
    "\n",
    "1. Load the Airbnb \"listings\" data set.\n",
    "2. Use the stacking ensemble method to train four regressors.\n",
    "3. Train and evaluate the same four individual regressors.\n",
    "4. Compare the performance of the stacked ensemble model to that of the individual models.\n",
    "\n",
    "**<font color='red'>Note: Some of the code cells in this notebook may take a while to run.</font>**"
   ]
  },
  {
   "cell_type": "markdown",
   "metadata": {},
   "source": [
    "## Part 1: Load the Data Set\n",
    "\n",
    "We will work with a preprocessed version of the Airbnb NYC \"listings\" data set. \n",
    "\n",
    "<b>Task</b>: In the code cell below, use the same method you have been using to load the data using `pd.read_csv()` and save it to DataFrame `df`.\n",
    "\n",
    "You will be working with the file named \"airbnb_readytofit.csv.gz\" that is located in a folder named \"data\"."
   ]
  },
  {
   "cell_type": "code",
   "execution_count": 2,
   "metadata": {},
   "outputs": [],
   "source": [
    "filename = os.path.join(os.getcwd(), \"data\", \"airbnb_readytofit.csv.gz\")\n",
    "df = pd.read_csv(filename, header= 0)"
   ]
  },
  {
   "cell_type": "markdown",
   "metadata": {},
   "source": [
    "## Part 2: Create Training and Test Data Sets"
   ]
  },
  {
   "cell_type": "markdown",
   "metadata": {},
   "source": [
    "So far, we mostly focused on classification problems. For this exercise, you will focus on a regression problem and predict a continuous outcome.\n",
    "\n",
    "Your model will predict the price of a listing; the label is going to be 'price'.\n",
    "\n",
    "### Create Labeled Examples \n",
    "\n",
    "<b>Task</b>: Create labeled examples from DataFrame `df`. \n",
    "In the code cell below carry out the following steps:\n",
    "\n",
    "* Get the `price` column from DataFrame `df` and assign it to the variable `y`. This will be our label.\n",
    "* Get all other columns from DataFrame `df` and assign them to the variable `X`. These will be our features. "
   ]
  },
  {
   "cell_type": "code",
   "execution_count": 3,
   "metadata": {},
   "outputs": [],
   "source": [
    "y = df['price']\n",
    "X = df.drop(columns = 'price', axis= 1)"
   ]
  },
  {
   "cell_type": "markdown",
   "metadata": {},
   "source": [
    "### Split Labeled Examples Into Training and Test Sets\n",
    "\n",
    "<b>Task</b>: In the code cell below, create training and test sets out of the labeled examples. \n",
    "\n",
    "1. Use scikit-learn's `train_test_split()` function to create the data sets.\n",
    "\n",
    "2. Specify:\n",
    "    * A test set that is 30 percent of the size of the data set.\n",
    "    * A seed value of '1234'. \n",
    "    "
   ]
  },
  {
   "cell_type": "code",
   "execution_count": 4,
   "metadata": {},
   "outputs": [],
   "source": [
    "X_train,X_test,y_train,y_test = train_test_split(X,y, test_size = .3, random_state = 1234)"
   ]
  },
  {
   "cell_type": "markdown",
   "metadata": {},
   "source": [
    "## Part 3: Use the Stacking Ensemble Method to Train Four Regression Models and Evaluate the Performance"
   ]
  },
  {
   "cell_type": "markdown",
   "metadata": {},
   "source": [
    "You will use the scikit-learn `StackingRegressor` class. For more information, consult the online [documentation](https://scikit-learn.org/stable/modules/generated/sklearn.ensemble.StackingRegressor.html).\n",
    "\n",
    "First let's import `StackingRegressor`:"
   ]
  },
  {
   "cell_type": "code",
   "execution_count": 5,
   "metadata": {},
   "outputs": [],
   "source": [
    "from sklearn.ensemble import StackingRegressor"
   ]
  },
  {
   "cell_type": "markdown",
   "metadata": {},
   "source": [
    "In this part of the assignment, we will try to use four models jointly. In the code cell below, we creates a list of tuples, each consisting of a scikit-learn model function and the corresponding shorthand name that we choose:"
   ]
  },
  {
   "cell_type": "code",
   "execution_count": 6,
   "metadata": {},
   "outputs": [],
   "source": [
    "estimators = [(\"DT\", DecisionTreeRegressor()),\n",
    "              (\"RF\", RandomForestRegressor()),\n",
    "              (\"GBDT\", GradientBoostingRegressor()),\n",
    "              (\"LR\", LinearRegression())\n",
    "             ]"
   ]
  },
  {
   "cell_type": "markdown",
   "metadata": {},
   "source": [
    "<b>Task</b>: Call `StackingRegressor()` with the following parameters:\n",
    "\n",
    "1. Assign the list `estimators` to the parameter `estimators`.\n",
    "2. Specify a 5-fold cross-validation using the parameter `cv`.\n",
    "3. Use the parameter 'passthrough=False'. \n",
    "\n",
    "Assign the results to the variable `stacking_model`.\n",
    "\n",
    "As you read up on the definition of the `StackingRegressor` class, you will notice that by default, the results of each model are combined using a ridge regression (a \"final regressor\")."
   ]
  },
  {
   "cell_type": "code",
   "execution_count": 7,
   "metadata": {},
   "outputs": [],
   "source": [
    "stacking_model = StackingRegressor(estimators=estimators, cv=5, passthrough=False)"
   ]
  },
  {
   "cell_type": "markdown",
   "metadata": {},
   "source": [
    "Let's train and evaluate this ensemble model using cross-validation:"
   ]
  },
  {
   "cell_type": "markdown",
   "metadata": {},
   "source": [
    "<b>Task</b>: Use scikit-learn's `cross_val_score()` function on the `stacking_model` model to obtain the 3-fold cross-validation RMSE scores. In the code cell below, perform the following steps:\n",
    "\n",
    "1. Call the function with the following arguments:\n",
    "\n",
    "    1. your model object \n",
    "    2. your training data \n",
    "    3. specify the number of folds \n",
    "    4. specify the \"scoring method\": `scoring = 'neg_root_mean_squared_error'`\n",
    "\n",
    "2. Compute the average RMSE score returned by the 3-fold cross-validation and save the result to `rmse_avg`(Recall that specifying `neg_root_mean_squared_error` will result in negative RMSE values, so you have to multiply each value by -1 to obtain the RMSE scores before obtaining the average RMSE).\n",
    "\n",
    "<b>Note</b>: This may take a while to run."
   ]
  },
  {
   "cell_type": "code",
   "execution_count": 8,
   "metadata": {},
   "outputs": [
    {
     "name": "stdout",
     "output_type": "stream",
     "text": [
      "Performing Cross-Validation...\n",
      "End\n",
      "average score: 0.6552322984585275\n"
     ]
    }
   ],
   "source": [
    "print('Performing Cross-Validation...')\n",
    "\n",
    "rmse_scores = -1 * cross_val_score(stacking_model,X_train, y_train,cv = 3, scoring = 'neg_root_mean_squared_error')\n",
    "rmse_avg = np.mean(rmse_scores)\n",
    "\n",
    "print('End')\n",
    "print('average score: {}'.format(rmse_avg))\n"
   ]
  },
  {
   "cell_type": "markdown",
   "metadata": {},
   "source": [
    "<b>Analysis</b>: \n",
    "1. Does the stacking model perform well? <br>\n",
    "2. Which hyperparameters were used for each one of the models in the stack?<br>\n",
    "\n",
    "Record your findings in the cell below."
   ]
  },
  {
   "cell_type": "markdown",
   "metadata": {},
   "source": [
    "The model has decent performance because it's better than .5 which would be purely guess. However, it's in the low 60s so it's not that accurate. There weren't any values passed into the models so they used the default values for the hyperparameters."
   ]
  },
  {
   "cell_type": "markdown",
   "metadata": {},
   "source": [
    "## Part 4: Improve the Performance of the Ensemble Model\n",
    "\n",
    "Assume that you decided to further improve your model by tuning a few of the hyperparameters and finding the best ones. Do not run the code cell below, but simply analyze the code:"
   ]
  },
  {
   "cell_type": "code",
   "execution_count": null,
   "metadata": {},
   "outputs": [],
   "source": [
    "\"\"\"\n",
    "params = {\n",
    "    \"DT__max_depth\": [2, 4, 8],\n",
    "    \"GBDT__n_estimators\":[100,300]\n",
    "    \n",
    "}\n",
    "\n",
    "stack_grid = GridSearchCV(stacking, params, cv=3, verbose=4, scoring='neg_root_mean_squared_error', refit=True, n_jobs=-1)\n",
    "stack_grid.fit(X_train, y_train)\n",
    "print(stack_grid.best_params_)\n",
    "rf_grid.cv_results_['mean_test_score']\n",
    "////\n",
    "\n",
    "print(\"best parameters:\", rf_grid.best_params_)\n",
    "\n",
    "rmse_stack_cv = -1*rf_grid.best_score_\n",
    "print(\"[STACK] RMSE for the best model is : {:.2f}\".format(rmse_stack_cv))\n",
    "\n",
    "\"\"\""
   ]
  },
  {
   "cell_type": "markdown",
   "metadata": {},
   "source": [
    "Running the code above is computationally costly (you are welcome to do so on your own time as an ungraded activity). For this lab, we will simply give away the resulting values of the best hyperparameters:<br>\n",
    "```{'DT__max_depth': 8, 'GBDT__n_estimators': 100}```"
   ]
  },
  {
   "cell_type": "markdown",
   "metadata": {},
   "source": [
    "<b>Task</b>: Create a new version of the 'estimators' list. You will use the same four regressors, but this time, you will pass the `max_depth` value above to the decision tree model, and the `n_estimators` value above to the gradient boosted decision tree. Save the estimators list to the variable `estimators_best`."
   ]
  },
  {
   "cell_type": "code",
   "execution_count": 12,
   "metadata": {},
   "outputs": [],
   "source": [
    "estimators_best = [(\"DT\", DecisionTreeRegressor(max_depth = 8)),\n",
    "              (\"RF\", RandomForestRegressor()),\n",
    "              (\"GBDT\", GradientBoostingRegressor(n_estimators = 100)),\n",
    "              (\"LR\", LinearRegression())\n",
    "             ]"
   ]
  },
  {
   "cell_type": "markdown",
   "metadata": {},
   "source": [
    "<b>Task</b>: Create a new `StackingRegressor` object with `estimators_best`. Name the model object `stacking_best_model`. Fit `stacking_best_model` to the training data.\n"
   ]
  },
  {
   "cell_type": "code",
   "execution_count": 13,
   "metadata": {},
   "outputs": [
    {
     "name": "stdout",
     "output_type": "stream",
     "text": [
      "Implement Stacking...\n",
      "End\n"
     ]
    }
   ],
   "source": [
    "print('Implement Stacking...')\n",
    "\n",
    "stacking_best_model= StackingRegressor(estimators=estimators_best, cv=5, passthrough=False)\n",
    "stacking_best_model.fit(X_train,y_train)\n",
    "print('End')"
   ]
  },
  {
   "cell_type": "markdown",
   "metadata": {},
   "source": [
    "<b>Task:</b> Use the `predict()` method to test your ensemble model `stacking_best_model` on the test set (`X_test`). Save the result to the variable `stacking_best_pred`. Evaluate the results by computing the RMSE and R2 score. Save the results to the variables `rmse` and `r2`.\n",
    "\n",
    "Complete the code in the cell below to accomplish this."
   ]
  },
  {
   "cell_type": "code",
   "execution_count": 14,
   "metadata": {},
   "outputs": [
    {
     "name": "stdout",
     "output_type": "stream",
     "text": [
      "Root Mean Squared Error: 0.6196275461120596\n",
      "R2: 0.6363439819439833\n"
     ]
    }
   ],
   "source": [
    "# 1. Use predict() to test use the fitted model to make predictions on the test data\n",
    "stacking_best_pred = stacking_best_model.predict(X_test)\n",
    "\n",
    "# 2. Compute the RMSE using mean_squared_error()\n",
    "rmse = mean_squared_error(y_test, stacking_best_pred, squared = False)\n",
    "\n",
    "# 3. Compute the R2 score using r2_score()\n",
    "r2 = r2_score(y_test, stacking_best_pred)\n",
    "\n",
    "           \n",
    "print('Root Mean Squared Error: {0}'.format(rmse))\n",
    "print('R2: {0}'.format(r2))                       "
   ]
  },
  {
   "cell_type": "markdown",
   "metadata": {},
   "source": [
    "## Part 5: Fit and Evaluate Individual Regression Models"
   ]
  },
  {
   "cell_type": "markdown",
   "metadata": {},
   "source": [
    "### a. Fit and Evaluate a Linear Regression\n",
    "\n",
    "<b>Task:</b> Complete the code below to fit and evaluate a linear regression model:"
   ]
  },
  {
   "cell_type": "code",
   "execution_count": 15,
   "metadata": {},
   "outputs": [
    {
     "name": "stdout",
     "output_type": "stream",
     "text": [
      "[LR] Root Mean Squared Error: 0.7449320705359715\n",
      "[LR] R2: 0.4743911252247154\n"
     ]
    }
   ],
   "source": [
    "# 1. Create the LinearRegression model object below and assign to variable 'lr_model'\n",
    "lr_model = LinearRegression()\n",
    "\n",
    "# 2. Fit the model to the training data below\n",
    "lr_model.fit(X_train, y_train)\n",
    "\n",
    "# 3.  Call predict() to use the fitted model to make predictions on the test data. Save the results to variable\n",
    "# 'y_lr_pred'\n",
    "y_lr_pred = lr_model.predict(X_test)\n",
    "\n",
    "# 4: Compute the RMSE and R2 (on y_test and y_lr_pred) and save the results to lr_rmse and lr_r2\n",
    "lr_rmse = mean_squared_error(y_test, y_lr_pred, squared = False)\n",
    "\n",
    "lr_r2 = r2_score(y_test, y_lr_pred)\n",
    "\n",
    "\n",
    "print('[LR] Root Mean Squared Error: {0}'.format(lr_rmse))\n",
    "print('[LR] R2: {0}'.format(lr_r2))"
   ]
  },
  {
   "cell_type": "markdown",
   "metadata": {},
   "source": [
    "### b. Fit and Evaluate a Decision Tree \n",
    "\n",
    "Let's assume you already performed a grid search to find the best model hyperparameters for your decision tree. (We are omitting this step to save computation time.) The best values are: `max_depth=8`, and `min_samples_leaf = 50`. You will train a decision tree with these hyperparameter values.\n",
    "\n",
    "<b>Task:</b> Complete the code in the cell below:"
   ]
  },
  {
   "cell_type": "code",
   "execution_count": 16,
   "metadata": {},
   "outputs": [
    {
     "name": "stdout",
     "output_type": "stream",
     "text": [
      "[DT] Root Mean Squared Error: 0.7313108519904873\n",
      "[DT] R2: 0.49343709696396654\n"
     ]
    }
   ],
   "source": [
    "# 1. Create the DecisionTreeRegressor model object using the hyperparameter values above and assign to \n",
    "# variable 'dt_model'\n",
    "dt_model = DecisionTreeRegressor(max_depth = 8)\n",
    "\n",
    "# 2. Fit the model to the training data below\n",
    "dt_model.fit(X_train, y_train)\n",
    "\n",
    "# 3.  Call predict() to use the fitted model to make predictions on the test data. Save the results to variable\n",
    "# 'y_dt_pred'\n",
    "y_dt_pred = dt_model.predict(X_test)\n",
    "\n",
    "# 4: Compute the RMSE and R2 (on y_test and y_dt_pred) and save the results to dt_rmse and dt_r2\n",
    "dt_rmse = mean_squared_error(y_test, y_dt_pred, squared = False)\n",
    "\n",
    "dt_r2 = r2_score(y_test, y_dt_pred)\n",
    "\n",
    "print('[DT] Root Mean Squared Error: {0}'.format(dt_rmse))\n",
    "print('[DT] R2: {0}'.format(dt_r2))\n"
   ]
  },
  {
   "cell_type": "markdown",
   "metadata": {},
   "source": [
    "### c. Fit and Evaluate a Gradient Boosted Decision Tree \n",
    "\n",
    "Let's assume you already performed a grid search to find the best model hyperparameters for your gradient boosted decision tree. (We are omitting this step to save computation time.) The best values are: `max_depth=2`, and `n_estimators = 300`. You will train a GBDT with these hyperparameter values.\n",
    "\n",
    "<b>Task</b>: Complete the code in the cell below."
   ]
  },
  {
   "cell_type": "code",
   "execution_count": 17,
   "metadata": {},
   "outputs": [
    {
     "name": "stdout",
     "output_type": "stream",
     "text": [
      "Begin GBDT Implementation...\n",
      "End\n",
      "[GBDT] Root Mean Squared Error: 0.6566689609125417\n",
      "[GBDT] R2: 0.5915655900446585\n"
     ]
    }
   ],
   "source": [
    "print('Begin GBDT Implementation...')\n",
    "\n",
    "# 1. Create the  GradientBoostingRegressor model object below and assign to variable 'gbdt_model'\n",
    "gbdt_model = GradientBoostingRegressor()\n",
    "\n",
    "# 2. Fit the model to the training data below\n",
    "gbdt_model.fit(X_train, y_train)\n",
    "# 3. Call predict() to use the fitted model to make predictions on the test data. Save the results to variable\n",
    "# 'y_gbdt_pred'\n",
    "y_gbdt_pred = gbdt_model.predict(X_test)\n",
    "\n",
    "# 4. Compute the RMSE and R2 (on y_test and y_gbdt_pred) and save the results to gbdt_rmse and gbdt_r2\n",
    "gbdt_rmse = mean_squared_error(y_test, y_gbdt_pred, squared = False)\n",
    "\n",
    "gbdt_r2 = r2_score(y_test, y_gbdt_pred)\n",
    "\n",
    "print('End')\n",
    "\n",
    "print('[GBDT] Root Mean Squared Error: {0}'.format(gbdt_rmse))\n",
    "print('[GBDT] R2: {0}'.format(gbdt_r2))                 \n",
    "\n",
    "\n"
   ]
  },
  {
   "cell_type": "markdown",
   "metadata": {},
   "source": [
    "### d. Fit and Evaluate  a Random Forest\n",
    "\n",
    "Let's assume you already performed a grid search to find the best model hyperparameters for your random forest model. (We are omitting this step to save computation time.) The best values are: `max_depth=32`, and `n_estimators = 300`. \n",
    "You will train a random forest with these hyperparameter values.\n",
    "\n",
    "<b>Task</b>: Complete the code in the cell below."
   ]
  },
  {
   "cell_type": "code",
   "execution_count": 18,
   "metadata": {},
   "outputs": [
    {
     "name": "stdout",
     "output_type": "stream",
     "text": [
      "Begin RF Implementation...\n",
      "End\n",
      "[RF] Root Mean Squared Error: 0.6298351556282497\n",
      "[RF] R2: 0.6242637105695537\n"
     ]
    }
   ],
   "source": [
    "print('Begin RF Implementation...')\n",
    "\n",
    "# 1. Create the  RandomForestRegressor model object below and assign to variable 'rf_model'\n",
    "rf_model = RandomForestRegressor()\n",
    "\n",
    "# 2. Fit the model to the training data below\n",
    "rf_model.fit(X_train,y_train)\n",
    "\n",
    "# 3. Call predict() to use the fitted model to make predictions on the test data. Save the results to variable\n",
    "# 'y_rf_pred'\n",
    "y_rf_pred = rf_model.predict(X_test)\n",
    "\n",
    "# 4. Compute the RMSE and R2 (on y_test and y_rf_pred) and save the results to rf_rmse and rf_r2\n",
    "rf_rmse = mean_squared_error(y_test, y_rf_pred, squared = False)\n",
    "\n",
    "rf_r2 = r2_score(y_test, y_rf_pred)\n",
    "\n",
    "print('End')\n",
    "\n",
    "print('[RF] Root Mean Squared Error: {0}'.format(rf_rmse))\n",
    "print('[RF] R2: {0}'.format(rf_r2))\n"
   ]
  },
  {
   "cell_type": "markdown",
   "metadata": {},
   "source": [
    "## Part 6: Visualize Model Performance\n",
    "\n",
    "The code cell below will plot the RMSE and R2 score for the stacked ensemble model and each regressor. \n",
    "\n",
    "<b>Task:</b> Complete the code in the cell below."
   ]
  },
  {
   "cell_type": "code",
   "execution_count": 30,
   "metadata": {},
   "outputs": [
    {
     "data": {
      "image/png": "[encoded data removed]",
      "text/plain": [
       "<Figure size 432x288 with 1 Axes>"
      ]
     },
     "metadata": {
      "needs_background": "light"
     },
     "output_type": "display_data"
    }
   ],
   "source": [
    "RMSE_Results = [rmse, lr_rmse, dt_rmse, gbdt_rmse, rf_rmse]\n",
    "R2_Results = [r2, lr_r2, dt_r2, gbdt_r2, rf_r2]\n",
    "\n",
    "rg= np.arange(5)\n",
    "width = 0.35\n",
    "\n",
    "# 1. Create bar plot with RMSE results\n",
    "plt.bar(rg, RMSE_Results, width, label='RMSE')\n",
    "\n",
    "# 2. Create bar plot with R2 results\n",
    "plt.bar(rg + width, R2_Results, width, label='R2')\n",
    "\n",
    "# 3. Call plt.xticks() to add labels under the bars indicating which model the pair of RMSE and R2 bars correspond to\n",
    "plt.xticks(rg + width/2,['Stack','Log', 'DT', 'GBDT', 'RF'], rotation=0)\n",
    "\n",
    "# 4. Label the x and y axis of the plot: the x-axis should be labeled \"Models\" and the y-axis should be labeled \"RMSE and R2\"\n",
    "plt.xlabel(\"Models\")\n",
    "plt.ylabel(\"RMSE and R2\")\n",
    "\n",
    "plt.ylim([0, 1])\n",
    "plt.title('Model Performance')\n",
    "plt.legend(loc='upper left', ncol=2)\n",
    "plt.tight_layout()\n",
    "\n",
    "plt.show()\n"
   ]
  },
  {
   "cell_type": "markdown",
   "metadata": {},
   "source": [
    "<b>Analysis</b>: Compare the performance of the stacking model with the individual models. Is the stacking model performing better?\n",
    "Now that you are familiar with the Airbnb data, think about how a regression for price could be improved. What would you change, either at the feature engineering stage, or in the model selection, or at the stage of hyperparameter tuning?\n",
    "Record your findings in the cell below."
   ]
  },
  {
   "cell_type": "markdown",
   "metadata": {},
   "source": [
    "The Stacking Regressor Model still outperforms the individual models. However, the Random forest classifier was the most accurate individual model. When seperating the data into the X and Y sets, I would choose less but more influential features. We usually pick our feature out but I think less columns of data might help our accuracy here. We made our label so the most important features would be number of bedrooms, bathrooms, location, etc. As for the model selection, I would stick with random forest trees if we aren't using ensemble methods because we have the time to make more accurate predicitons. The hyperparameters really rely on what label we use and the amount of data for that given label so there's no golden number but it's always good to start with the default values and then go from there."
   ]
  },
  {
   "cell_type": "code",
   "execution_count": null,
   "metadata": {},
   "outputs": [],
   "source": []
  }
 ],
 "metadata": {
  "kernelspec": {
   "display_name": "Python 3",
   "language": "python",
   "name": "python3"
  },
  "language_info": {
   "codemirror_mode": {
    "name": "ipython",
    "version": 3
   },
   "file_extension": ".py",
   "mimetype": "text/x-python",
   "name": "python",
   "nbconvert_exporter": "python",
   "pygments_lexer": "ipython3",
   "version": "3.6.9"
  },
  "toc": {
   "base_numbering": 1,
   "nav_menu": {},
   "number_sections": false,
   "sideBar": true,
   "skip_h1_title": false,
   "title_cell": "Table of Contents",
   "title_sidebar": "Contents",
   "toc_cell": false,
   "toc_position": {},
   "toc_section_display": true,
   "toc_window_display": false
  },
  "varInspector": {
   "cols": {
    "lenName": 16,
    "lenType": 16,
    "lenVar": 40
   },
   "kernels_config": {
    "python": {
     "delete_cmd_postfix": "",
     "delete_cmd_prefix": "del ",
     "library": "var_list.py",
     "varRefreshCmd": "print(var_dic_list())"
    },
    "r": {
     "delete_cmd_postfix": ") ",
     "delete_cmd_prefix": "rm(",
     "library": "var_list.r",
     "varRefreshCmd": "cat(var_dic_list()) "
    }
   },
   "types_to_exclude": [
    "module",
    "function",
    "builtin_function_or_method",
    "instance",
    "_Feature"
   ],
   "window_display": false
  }
 },
 "nbformat": 4,
 "nbformat_minor": 2
}
