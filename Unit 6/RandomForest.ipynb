{
 "cells": [
  {
   "cell_type": "markdown",
   "metadata": {},
   "source": [
    "# Building Random Forests"
   ]
  },
  {
   "cell_type": "markdown",
   "metadata": {},
   "source": [
    "In this exercise, will you will train two random forest classifiers and compare their performances. \n",
    "\n",
    "**<font color='red'>Note: Some of the code cells in this notebook may take a while to run.</font>**"
   ]
  },
  {
   "cell_type": "markdown",
   "metadata": {},
   "source": [
    "### Import Packages\n",
    "\n",
    "Before you get started, import a few packages. Run the code cell below. "
   ]
  },
  {
   "cell_type": "code",
   "execution_count": 1,
   "metadata": {},
   "outputs": [
    {
     "name": "stderr",
     "output_type": "stream",
     "text": [
      "Matplotlib is building the font cache; this may take a moment.\n"
     ]
    }
   ],
   "source": [
    "import pandas as pd\n",
    "import numpy as np\n",
    "import os \n",
    "import matplotlib.pyplot as plt\n",
    "import seaborn as sns"
   ]
  },
  {
   "cell_type": "markdown",
   "metadata": {},
   "source": [
    "We will also import the scikit-learn `RandomForestClassifier`, the `train_test_split()` function for splitting the data into training and test sets, and the functions `roc_curve` and `auc` to evaluate the model. "
   ]
  },
  {
   "cell_type": "code",
   "execution_count": 2,
   "metadata": {},
   "outputs": [],
   "source": [
    "from sklearn.ensemble import RandomForestClassifier\n",
    "from sklearn.model_selection import train_test_split\n",
    "from sklearn.metrics import roc_curve, auc"
   ]
  },
  {
   "cell_type": "markdown",
   "metadata": {},
   "source": [
    "##  Step 1: Load a 'ready-to-fit' Data Set \n",
    "\n",
    "We will work with the \"cell2celltrain\" data set. This data set is already preprocessed, with the proper formatting, outliers, and missing values taken care of, and all numerical columns scaled to the [0, 1] interval. One-hot encoding has been performed on all categorical columns. Run the cell below to load the data set and save it to DataFrame `df`."
   ]
  },
  {
   "cell_type": "code",
   "execution_count": 3,
   "metadata": {},
   "outputs": [],
   "source": [
    "filename = os.path.join(os.getcwd(), \"data\", \"cell2celltrain.csv\")\n",
    "df = pd.read_csv(filename, header=0)"
   ]
  },
  {
   "cell_type": "markdown",
   "metadata": {},
   "source": [
    "## Step 2: Create Training and Test Data Sets"
   ]
  },
  {
   "cell_type": "markdown",
   "metadata": {},
   "source": [
    "### a. Create Labeled Examples\n",
    "\n",
    "Let's obtain columns from our data set to create labeled examples. \n",
    "The code cell below carries out the following steps:\n",
    "\n",
    "* Gets the `Churn` column from DataFrame `df` and assigns it to the variable `y`. This will be our label.\n",
    "* Assigns all other columns from DataFrame `df` to the variable `X`. These will be our features. \n"
   ]
  },
  {
   "cell_type": "code",
   "execution_count": 4,
   "metadata": {},
   "outputs": [],
   "source": [
    "y = df['Churn'] \n",
    "X = df.drop(columns = 'Churn', axis=1)"
   ]
  },
  {
   "cell_type": "markdown",
   "metadata": {},
   "source": [
    "### b. Split Labeled Examples Into Training and Test Sets"
   ]
  },
  {
   "cell_type": "code",
   "execution_count": 5,
   "metadata": {},
   "outputs": [],
   "source": [
    "X_train, X_test, y_train, y_test = train_test_split(X, y, test_size=0.33, random_state=1234)"
   ]
  },
  {
   "cell_type": "code",
   "execution_count": 6,
   "metadata": {},
   "outputs": [
    {
     "data": {
      "text/html": [
       "<div>\n",
       "<style scoped>\n",
       "    .dataframe tbody tr th:only-of-type {\n",
       "        vertical-align: middle;\n",
       "    }\n",
       "\n",
       "    .dataframe tbody tr th {\n",
       "        vertical-align: top;\n",
       "    }\n",
       "\n",
       "    .dataframe thead th {\n",
       "        text-align: right;\n",
       "    }\n",
       "</style>\n",
       "<table border=\"1\" class=\"dataframe\">\n",
       "  <thead>\n",
       "    <tr style=\"text-align: right;\">\n",
       "      <th></th>\n",
       "      <th>CustomerID</th>\n",
       "      <th>ChildrenInHH</th>\n",
       "      <th>HandsetRefurbished</th>\n",
       "      <th>HandsetWebCapable</th>\n",
       "      <th>TruckOwner</th>\n",
       "      <th>RVOwner</th>\n",
       "      <th>HomeownershipKnown</th>\n",
       "      <th>BuysViaMailOrder</th>\n",
       "      <th>RespondsToMailOffers</th>\n",
       "      <th>OptOutMailings</th>\n",
       "      <th>...</th>\n",
       "      <th>Occupation_Crafts</th>\n",
       "      <th>Occupation_Homemaker</th>\n",
       "      <th>Occupation_Other</th>\n",
       "      <th>Occupation_Professional</th>\n",
       "      <th>Occupation_Retired</th>\n",
       "      <th>Occupation_Self</th>\n",
       "      <th>Occupation_Student</th>\n",
       "      <th>Married_False</th>\n",
       "      <th>Married_True</th>\n",
       "      <th>Married_nan</th>\n",
       "    </tr>\n",
       "  </thead>\n",
       "  <tbody>\n",
       "    <tr>\n",
       "      <th>10351</th>\n",
       "      <td>3081630</td>\n",
       "      <td>True</td>\n",
       "      <td>False</td>\n",
       "      <td>True</td>\n",
       "      <td>True</td>\n",
       "      <td>True</td>\n",
       "      <td>True</td>\n",
       "      <td>True</td>\n",
       "      <td>True</td>\n",
       "      <td>False</td>\n",
       "      <td>...</td>\n",
       "      <td>0.0</td>\n",
       "      <td>0.0</td>\n",
       "      <td>0.0</td>\n",
       "      <td>1.0</td>\n",
       "      <td>0.0</td>\n",
       "      <td>0.0</td>\n",
       "      <td>0.0</td>\n",
       "      <td>0.0</td>\n",
       "      <td>1.0</td>\n",
       "      <td>0.0</td>\n",
       "    </tr>\n",
       "    <tr>\n",
       "      <th>33816</th>\n",
       "      <td>3269538</td>\n",
       "      <td>False</td>\n",
       "      <td>False</td>\n",
       "      <td>True</td>\n",
       "      <td>True</td>\n",
       "      <td>False</td>\n",
       "      <td>True</td>\n",
       "      <td>True</td>\n",
       "      <td>True</td>\n",
       "      <td>False</td>\n",
       "      <td>...</td>\n",
       "      <td>1.0</td>\n",
       "      <td>0.0</td>\n",
       "      <td>0.0</td>\n",
       "      <td>0.0</td>\n",
       "      <td>0.0</td>\n",
       "      <td>0.0</td>\n",
       "      <td>0.0</td>\n",
       "      <td>1.0</td>\n",
       "      <td>0.0</td>\n",
       "      <td>0.0</td>\n",
       "    </tr>\n",
       "    <tr>\n",
       "      <th>36668</th>\n",
       "      <td>3292822</td>\n",
       "      <td>False</td>\n",
       "      <td>False</td>\n",
       "      <td>True</td>\n",
       "      <td>False</td>\n",
       "      <td>False</td>\n",
       "      <td>False</td>\n",
       "      <td>False</td>\n",
       "      <td>False</td>\n",
       "      <td>False</td>\n",
       "      <td>...</td>\n",
       "      <td>0.0</td>\n",
       "      <td>0.0</td>\n",
       "      <td>1.0</td>\n",
       "      <td>0.0</td>\n",
       "      <td>0.0</td>\n",
       "      <td>0.0</td>\n",
       "      <td>0.0</td>\n",
       "      <td>0.0</td>\n",
       "      <td>0.0</td>\n",
       "      <td>1.0</td>\n",
       "    </tr>\n",
       "    <tr>\n",
       "      <th>12787</th>\n",
       "      <td>3100870</td>\n",
       "      <td>True</td>\n",
       "      <td>False</td>\n",
       "      <td>True</td>\n",
       "      <td>False</td>\n",
       "      <td>False</td>\n",
       "      <td>True</td>\n",
       "      <td>True</td>\n",
       "      <td>True</td>\n",
       "      <td>False</td>\n",
       "      <td>...</td>\n",
       "      <td>0.0</td>\n",
       "      <td>0.0</td>\n",
       "      <td>0.0</td>\n",
       "      <td>1.0</td>\n",
       "      <td>0.0</td>\n",
       "      <td>0.0</td>\n",
       "      <td>0.0</td>\n",
       "      <td>0.0</td>\n",
       "      <td>1.0</td>\n",
       "      <td>0.0</td>\n",
       "    </tr>\n",
       "    <tr>\n",
       "      <th>2635</th>\n",
       "      <td>3020642</td>\n",
       "      <td>False</td>\n",
       "      <td>False</td>\n",
       "      <td>True</td>\n",
       "      <td>False</td>\n",
       "      <td>False</td>\n",
       "      <td>True</td>\n",
       "      <td>False</td>\n",
       "      <td>False</td>\n",
       "      <td>False</td>\n",
       "      <td>...</td>\n",
       "      <td>0.0</td>\n",
       "      <td>0.0</td>\n",
       "      <td>1.0</td>\n",
       "      <td>0.0</td>\n",
       "      <td>0.0</td>\n",
       "      <td>0.0</td>\n",
       "      <td>0.0</td>\n",
       "      <td>1.0</td>\n",
       "      <td>0.0</td>\n",
       "      <td>0.0</td>\n",
       "    </tr>\n",
       "  </tbody>\n",
       "</table>\n",
       "<p>5 rows × 84 columns</p>\n",
       "</div>"
      ],
      "text/plain": [
       "       CustomerID  ChildrenInHH  HandsetRefurbished  HandsetWebCapable  \\\n",
       "10351     3081630          True               False               True   \n",
       "33816     3269538         False               False               True   \n",
       "36668     3292822         False               False               True   \n",
       "12787     3100870          True               False               True   \n",
       "2635      3020642         False               False               True   \n",
       "\n",
       "       TruckOwner  RVOwner  HomeownershipKnown  BuysViaMailOrder  \\\n",
       "10351        True     True                True              True   \n",
       "33816        True    False                True              True   \n",
       "36668       False    False               False             False   \n",
       "12787       False    False                True              True   \n",
       "2635        False    False                True             False   \n",
       "\n",
       "       RespondsToMailOffers  OptOutMailings  ...  Occupation_Crafts  \\\n",
       "10351                  True           False  ...                0.0   \n",
       "33816                  True           False  ...                1.0   \n",
       "36668                 False           False  ...                0.0   \n",
       "12787                  True           False  ...                0.0   \n",
       "2635                  False           False  ...                0.0   \n",
       "\n",
       "       Occupation_Homemaker  Occupation_Other  Occupation_Professional  \\\n",
       "10351                   0.0               0.0                      1.0   \n",
       "33816                   0.0               0.0                      0.0   \n",
       "36668                   0.0               1.0                      0.0   \n",
       "12787                   0.0               0.0                      1.0   \n",
       "2635                    0.0               1.0                      0.0   \n",
       "\n",
       "       Occupation_Retired  Occupation_Self  Occupation_Student  Married_False  \\\n",
       "10351                 0.0              0.0                 0.0            0.0   \n",
       "33816                 0.0              0.0                 0.0            1.0   \n",
       "36668                 0.0              0.0                 0.0            0.0   \n",
       "12787                 0.0              0.0                 0.0            0.0   \n",
       "2635                  0.0              0.0                 0.0            1.0   \n",
       "\n",
       "       Married_True  Married_nan  \n",
       "10351           1.0          0.0  \n",
       "33816           0.0          0.0  \n",
       "36668           0.0          1.0  \n",
       "12787           1.0          0.0  \n",
       "2635            0.0          0.0  \n",
       "\n",
       "[5 rows x 84 columns]"
      ]
     },
     "execution_count": 6,
     "metadata": {},
     "output_type": "execute_result"
    }
   ],
   "source": [
    "X_train.head()"
   ]
  },
  {
   "cell_type": "markdown",
   "metadata": {},
   "source": [
    "## Step 3: Fit Two Random Forest Classifiers\n",
    "\n",
    "<p>The random forest (RF) algorithm is probably the most well known and utilized implementation of the bagging technique. A RF is an ensemble of decision trees, where both bagging and random feature selection are used to reduce the variance of the forest.\n",
    "    \n",
    "We will use the scikit-learn's `RandomForestClassifier`. Please refer to the online [documentation](http://scikit-learn.org/stable/modules/ensemble.html) for a brief overview of scikit-learn's ensemble methods.\n",
    "\n",
    "We will not perform any special hyperparameter optimization, but will instead compare two Random Forest models that differ only in the number of estimators (decision trees)."
   ]
  },
  {
   "cell_type": "markdown",
   "metadata": {},
   "source": [
    "In the code cell below, build and train two random forest models, one with 20 estimators and one with 100 estimators. \n",
    "\n",
    "1. Use ```RandomForestClassifier()``` to create a model object, and assign the result to the variable ```rf_20_model```. You will provide the following arguments: <b>criterion='entropy', n_estimators=20</b>.\n",
    "\n",
    "2. Fit ```rf_20_model``` to the training data.\n",
    "\n",
    "3. Use the ```predict_proba()``` method  to use the fitted model `rf_20_model` to predict values for the test data. The method will return two columns. Store the values of the *second* column to a list named ```rf_20_predictions``` (Note: Remember to convert the resulting array to a list). \n",
    "\n",
    "4. Use ```RandomForestClassifier()``` to create a model object, and assign the result to the variable ```rf_100_model```. You will provide the following arguments: <b>criterion='entropy', n_estimators=100</b>.\n",
    "\n",
    "5. Fit ```rf_100_model``` to the training data.\n",
    "\n",
    "6. Use the ```predict_proba()``` method  to use the fitted model `rf_100_model` to predict values for the test data. The method will return two columns. Store the values of the *second* column to a list named ```rf_100_predictions``` (Note: Remember to convert the resulting array to a list). "
   ]
  },
  {
   "cell_type": "markdown",
   "metadata": {},
   "source": [
    "### Graded Cell\n",
    "\n",
    "The cell below will be graded. Remove the line \"raise NotImplementedError()\" before writing your code. Note: This may take a few minutes to run."
   ]
  },
  {
   "cell_type": "code",
   "execution_count": 9,
   "metadata": {
    "deletable": false,
    "nbgrader": {
     "checksum": "468b66eb800818d2f6aba17bc96882ba",
     "grade": false,
     "grade_id": "cell-rf",
     "locked": false,
     "schema_version": 1,
     "solution": true
    }
   },
   "outputs": [
    {
     "name": "stdout",
     "output_type": "stream",
     "text": [
      "Begin Random Forest Implementation...\n",
      "End\n"
     ]
    }
   ],
   "source": [
    "print('Begin Random Forest Implementation...')\n",
    "# 1. Create the RandomForestClassifier model object below and assign to variable 'rf_20_model'\n",
    "\n",
    "rf_20_model = RandomForestClassifier(criterion = 'entropy', n_estimators = 20)\n",
    "\n",
    "# 2. Fit the model to the training data below\n",
    "\n",
    "rf_20_model.fit(X_train,y_train)\n",
    "\n",
    "# 3. Make predictions on the test data using the predict_proba() method and assign the result to a \n",
    "# list named 'rf_20_predictions' below\n",
    "\n",
    "rf_20_predictions = []\n",
    "b = rf_20_model.predict_proba(X_test)\n",
    "for i in b:\n",
    "    rf_20_predictions.append(i[1])\n",
    "# 4. Create the RandomForestClassifier model object below and assign to variable 'rf_100_model'\n",
    "rf_100_model = RandomForestClassifier(criterion = 'entropy', n_estimators = 100)\n",
    "\n",
    "# 5. Fit the model to the training data below\n",
    "rf_100_model.fit(X_train,y_train)\n",
    "\n",
    "# 6. Make predictions on the test data using the predict_proba() method and assign the result to a \n",
    "# list named 'rf_100_predictions' below\n",
    "\n",
    "rf_100_predictions = []\n",
    "c = rf_100_model.predict_proba(X_test)\n",
    "for i in c:\n",
    "    rf_100_predictions.append(i[1])\n",
    "\n",
    "print('End')"
   ]
  },
  {
   "cell_type": "markdown",
   "metadata": {},
   "source": [
    "### Self-Check\n",
    "\n",
    "Run the cell below to test the correctness of your code above before submitting for grading. Do not add code or delete code in the cell. Note: This may take a few minutes to run."
   ]
  },
  {
   "cell_type": "code",
   "execution_count": 10,
   "metadata": {
    "deletable": false,
    "editable": false,
    "nbgrader": {
     "checksum": "22535925293cfb8fbb66d765bfac9bfc",
     "grade": true,
     "grade_id": "cell-rf-test",
     "locked": true,
     "points": 3,
     "schema_version": 1,
     "solution": false
    }
   },
   "outputs": [
    {
     "name": "stdout",
     "output_type": "stream",
     "text": [
      "Running Test...\n",
      "Correct!\n"
     ]
    }
   ],
   "source": [
    "# Run this self-test cell to check your code; \n",
    "# do not add code or delete code in this cell\n",
    "from jn import testRFModel\n",
    "\n",
    "try:\n",
    "    p, err = testRFModel(df, rf_20_model, rf_100_model, rf_20_predictions, rf_100_predictions)\n",
    "    print(err)\n",
    "except Exception as e:\n",
    "    print(\"Error!\\n\" + str(e))\n",
    "    "
   ]
  },
  {
   "cell_type": "markdown",
   "metadata": {},
   "source": [
    "## Step 4: Evaluate the Performance Using ROC and AUC"
   ]
  },
  {
   "cell_type": "markdown",
   "metadata": {},
   "source": [
    "We will now plot two ROC curves for the two RF classifiers on the same graph. "
   ]
  },
  {
   "cell_type": "markdown",
   "metadata": {},
   "source": [
    "In the code cell below, use the `roc_curve()` function to record the true positive and false positive rates for both models. \n",
    "\n",
    "1. Call `roc_curve()` with arguments `y_test` and `rf_20_predictions`. The `roc_curve` function produces three outputs. Save the three items to the following variables, respectively: `fpr_20`, `tpr_20`, and `thresholds_20`.\n",
    "\n",
    "2. Call `roc_curve()` with arguments `y_test` and `rf_100_predictions`. Save the three items to the following variables, respectively: `fpr_100`, `tpr_100`, and `thresholds_100`."
   ]
  },
  {
   "cell_type": "markdown",
   "metadata": {},
   "source": [
    "### Graded Cell\n",
    "\n",
    "The cell below will be graded. Remove the line \"raise NotImplementedError()\" before writing your code. Note: This may take a few minutes to run."
   ]
  },
  {
   "cell_type": "code",
   "execution_count": 11,
   "metadata": {
    "deletable": false,
    "nbgrader": {
     "checksum": "f7ccc2f68caf55395def523283e207b8",
     "grade": false,
     "grade_id": "cell-roc",
     "locked": false,
     "schema_version": 1,
     "solution": true
    }
   },
   "outputs": [
    {
     "name": "stdout",
     "output_type": "stream",
     "text": [
      "Computing ROC Curve...\n",
      "End\n"
     ]
    }
   ],
   "source": [
    "print('Computing ROC Curve...')\n",
    "\n",
    "#1. Use roc_curve to record fpr and tpr for rf_20_model\n",
    "fpr_20, tpr_20, thresholds_20 = roc_curve(y_test, rf_20_predictions)\n",
    "\n",
    "#2. Use roc_curve to record fpr and tpr for rf_100_model\n",
    "fpr_100, tpr_100, thresholds_100 = roc_curve(y_test, rf_100_predictions)\n",
    "\n",
    "print('End')\n"
   ]
  },
  {
   "cell_type": "markdown",
   "metadata": {},
   "source": [
    "### Self-Check\n",
    "\n",
    "Run the cell below to test the correctness of your code above before submitting for grading. Do not add code or delete code in the cell. Note: This may take a few minutes to run."
   ]
  },
  {
   "cell_type": "code",
   "execution_count": 12,
   "metadata": {
    "deletable": false,
    "editable": false,
    "nbgrader": {
     "checksum": "9cc6d383536b3fe1b12fbecac7a68fbc",
     "grade": true,
     "grade_id": "cell-roc-test",
     "locked": true,
     "points": 2,
     "schema_version": 1,
     "solution": false
    }
   },
   "outputs": [
    {
     "name": "stdout",
     "output_type": "stream",
     "text": [
      "Running Test...\n",
      "Correct!\n"
     ]
    }
   ],
   "source": [
    "# Run this self-test cell to check your code; \n",
    "# do not add code or delete code in this cell\n",
    "from jn import testROC\n",
    "\n",
    "try:\n",
    "    p, err = testROC(df, rf_20_model, rf_100_model, rf_20_predictions, rf_100_predictions, \n",
    "                fpr_20, tpr_20, thresholds_20, fpr_100, tpr_100, thresholds_100)\n",
    "    print(err)\n",
    "except Exception as e:\n",
    "    print(\"Error!\\n\" + str(e))\n",
    "    "
   ]
  },
  {
   "cell_type": "markdown",
   "metadata": {},
   "source": [
    "The code cell below plots the ROC curves for both models. Run the code cell and inspect the results."
   ]
  },
  {
   "cell_type": "code",
   "execution_count": 13,
   "metadata": {},
   "outputs": [
    {
     "name": "stdout",
     "output_type": "stream",
     "text": [
      "Plotting ROC Curve...\n"
     ]
    },
    {
     "data": {
      "image/png": "[encoded data removed]",
      "text/plain": [
       "<Figure size 432x288 with 1 Axes>"
      ]
     },
     "metadata": {
      "needs_background": "light"
     },
     "output_type": "display_data"
    }
   ],
   "source": [
    "print('Plotting ROC Curve...')\n",
    "\n",
    "fig = plt.figure()\n",
    "ax = fig.add_subplot(111)\n",
    "\n",
    "\n",
    "sns.lineplot(x=fpr_20, y=tpr_20, marker = 'o')\n",
    "sns.lineplot(x=fpr_100, y=tpr_100, marker = 'o')\n",
    "\n",
    "plt.title(\"Receiver operating characteristic (ROC) curve\")\n",
    "plt.xlabel(\"False positive rate\")\n",
    "plt.ylabel(\"True positive rate\")\n",
    "plt.legend(['RF with 20 estimators', 'RF with 100 estimators'])\n",
    "plt.show()\n"
   ]
  },
  {
   "cell_type": "markdown",
   "metadata": {},
   "source": [
    "<p>You should see that with the random forest model that was fit using a larger number of estimators performs better. Let's quantify this difference in performance using AUC."
   ]
  },
  {
   "cell_type": "markdown",
   "metadata": {},
   "source": [
    "In the code cell below, use the `auc()` function to compute the areas under each of the receiver operating characteristic (ROC) curves. \n",
    "\n",
    "For each model, call the function with the `fpr` argument first and the `tpr` argument second. \n",
    "Save the results to variables `auc_20` and `auc_100`."
   ]
  },
  {
   "cell_type": "markdown",
   "metadata": {},
   "source": [
    "### Graded Cell\n",
    "\n",
    "The cell below will be graded. Remove the line \"raise NotImplementedError()\" before writing your code."
   ]
  },
  {
   "cell_type": "code",
   "execution_count": 14,
   "metadata": {
    "deletable": false,
    "nbgrader": {
     "checksum": "de0c8a59ecae7a0b9b455c724097a676",
     "grade": false,
     "grade_id": "cell-auc",
     "locked": false,
     "schema_version": 1,
     "solution": true
    }
   },
   "outputs": [
    {
     "name": "stdout",
     "output_type": "stream",
     "text": [
      "AUC of the RF model with 20 estimators is 0.627\n",
      "AUC of the RF model with 100 estimators is 0.662\n"
     ]
    }
   ],
   "source": [
    "#1. AUC for rf_20_model\n",
    "# YOUR CODE HERE\n",
    "auc_20 = auc(fpr_20, tpr_20)\n",
    "\n",
    "print(\"AUC of the RF model with 20 estimators is {:.3f}\".format(auc_20))\n",
    "\n",
    "# 2. AUC for rf_100_model\n",
    "auc_100 = auc(fpr_100, tpr_100)\n",
    "\n",
    "print(\"AUC of the RF model with 100 estimators is {:.3f}\".format(auc_100))\n"
   ]
  },
  {
   "cell_type": "markdown",
   "metadata": {},
   "source": [
    "### Self-Check\n",
    "\n",
    "Run the cell below to test the correctness of your code above before submitting for grading. Do not add code or delete code in the cell. Note: This may take a few minutes to run."
   ]
  },
  {
   "cell_type": "code",
   "execution_count": 15,
   "metadata": {
    "deletable": false,
    "editable": false,
    "nbgrader": {
     "checksum": "011b2cad717d3e2c2c3ed0ea45e757c9",
     "grade": true,
     "grade_id": "cell-auc-test",
     "locked": true,
     "points": 1,
     "schema_version": 1,
     "solution": false
    }
   },
   "outputs": [
    {
     "name": "stdout",
     "output_type": "stream",
     "text": [
      "Running Test...\n",
      "Correct!\n"
     ]
    }
   ],
   "source": [
    "# Run this self-test cell to check your code; \n",
    "# do not add code or delete code in this cell\n",
    "from jn import testROC\n",
    "\n",
    "try:\n",
    "    p, err = testROC(df, rf_20_model, rf_100_model, rf_20_predictions, rf_100_predictions, \n",
    "                fpr_20, tpr_20, thresholds_20, fpr_100, tpr_100, thresholds_100, [auc_20, auc_100])\n",
    "    print(err)\n",
    "except Exception as e:\n",
    "    print(\"Error!\\n\" + str(e))\n",
    "    "
   ]
  },
  {
   "cell_type": "code",
   "execution_count": null,
   "metadata": {},
   "outputs": [],
   "source": []
  }
 ],
 "metadata": {
  "kernelspec": {
   "display_name": "Python 3",
   "language": "python",
   "name": "python3"
  },
  "language_info": {
   "codemirror_mode": {
    "name": "ipython",
    "version": 3
   },
   "file_extension": ".py",
   "mimetype": "text/x-python",
   "name": "python",
   "nbconvert_exporter": "python",
   "pygments_lexer": "ipython3",
   "version": "3.6.9"
  },
  "toc": {
   "base_numbering": 1,
   "nav_menu": {},
   "number_sections": false,
   "sideBar": true,
   "skip_h1_title": false,
   "title_cell": "Table of Contents",
   "title_sidebar": "Contents",
   "toc_cell": false,
   "toc_position": {},
   "toc_section_display": true,
   "toc_window_display": false
  },
  "varInspector": {
   "cols": {
    "lenName": 16,
    "lenType": 16,
    "lenVar": 40
   },
   "kernels_config": {
    "python": {
     "delete_cmd_postfix": "",
     "delete_cmd_prefix": "del ",
     "library": "var_list.py",
     "varRefreshCmd": "print(var_dic_list())"
    },
    "r": {
     "delete_cmd_postfix": ") ",
     "delete_cmd_prefix": "rm(",
     "library": "var_list.r",
     "varRefreshCmd": "cat(var_dic_list()) "
    }
   },
   "types_to_exclude": [
    "module",
    "function",
    "builtin_function_or_method",
    "instance",
    "_Feature"
   ],
   "window_display": false
  }
 },
 "nbformat": 4,
 "nbformat_minor": 2
}
